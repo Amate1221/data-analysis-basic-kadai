{
  "nbformat": 4,
  "nbformat_minor": 0,
  "metadata": {
    "colab": {
      "provenance": []
    },
    "kernelspec": {
      "name": "python3",
      "display_name": "Python 3"
    },
    "language_info": {
      "name": "python"
    }
  },
  "cells": [
    {
      "cell_type": "code",
      "source": [
        "import numpy as np\n",
        "\n",
        "A = np.array([[0, 2, 4, 6], [1, 3, 5, 7]])  # shape: (2, 4)\n",
        "B = np.array([[0, 1], [2, 3], [4, 5], [6, 7]])  # shape: (4, 2)\n",
        "\n",
        "result = np.dot(A, B)\n",
        "print(result)\n",
        "print(result.max())  # 最大値を表示"
      ],
      "metadata": {
        "colab": {
          "base_uri": "https://localhost:8080/"
        },
        "id": "8d1ks6nWqguY",
        "outputId": "33e46149-7d1e-4d55-d515-6259fba98cf3"
      },
      "execution_count": 25,
      "outputs": [
        {
          "output_type": "stream",
          "name": "stdout",
          "text": [
            "[[56 68]\n",
            " [68 84]]\n",
            "84\n"
          ]
        }
      ]
    }
  ]
}